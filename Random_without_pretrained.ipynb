{
 "cells": [
  {
   "cell_type": "code",
   "execution_count": 1,
   "id": "34c78dc8",
   "metadata": {},
   "outputs": [],
   "source": [
    "import os\n",
    "import cv2\n",
    "import numpy as np\n",
    "from sklearn.ensemble import RandomForestClassifier\n",
    "from skimage.feature import local_binary_pattern"
   ]
  },
  {
   "cell_type": "code",
   "execution_count": 2,
   "id": "94e22256",
   "metadata": {},
   "outputs": [],
   "source": [
    "base_dir = r\"C:\\Users\\18138\\Desktop\\data anly\\Training Image sp 23\""
   ]
  },
  {
   "cell_type": "code",
   "execution_count": 3,
   "id": "07835cf1",
   "metadata": {},
   "outputs": [],
   "source": [
    "subdirs = os.listdir(base_dir)\n",
    "class_names = sorted(subdirs)"
   ]
  },
  {
   "cell_type": "code",
   "execution_count": 4,
   "id": "a1fa5e9a",
   "metadata": {},
   "outputs": [],
   "source": [
    "img_size = (224, 224)"
   ]
  },
  {
   "cell_type": "code",
   "execution_count": 5,
   "id": "d6e44b36",
   "metadata": {},
   "outputs": [],
   "source": [
    "batch_size = 32"
   ]
  },
  {
   "cell_type": "code",
   "execution_count": 6,
   "id": "f32aba26",
   "metadata": {},
   "outputs": [],
   "source": [
    "# n_estimators = 100\n",
    "max_depth = 10\n",
    "min_samples_split = 2\n",
    "# random_state = 42"
   ]
  },
  {
   "cell_type": "code",
   "execution_count": 7,
   "id": "41c8f726",
   "metadata": {},
   "outputs": [],
   "source": [
    "  def extract_features(img_path):\n",
    "        img = cv2.imread(img_path)\n",
    "        img = cv2.resize(img, img_size)\n",
    "        img = cv2.cvtColor(img, cv2.COLOR_BGR2GRAY)\n",
    "        lbp = local_binary_pattern(img, P=8, R=3)\n",
    "        hist, _ = np.histogram(lbp.ravel(), bins=np.arange(0, 256), range=(0, 255))\n",
    "        features = hist.astype(\"float\")\n",
    "        features /= (np.sum(features) + 1e-7)\n",
    "        return features"
   ]
  },
  {
   "cell_type": "code",
   "execution_count": null,
   "id": "8db41f56",
   "metadata": {},
   "outputs": [],
   "source": []
  },
  {
   "cell_type": "code",
   "execution_count": 8,
   "id": "f92ce284",
   "metadata": {},
   "outputs": [],
   "source": [
    "X = []\n",
    "y = []\n",
    "for class_index, class_name in enumerate(class_names):\n",
    "    class_dir = os.path.join(base_dir, class_name)\n",
    "    for img_name in os.listdir(class_dir):\n",
    "        img_path = os.path.join(class_dir, img_name)\n",
    "        features = extract_features(img_path)\n",
    "        X.append(features)\n",
    "        y.append(class_index)\n",
    "      \n",
    "        \n",
    "X = np.array(X)\n",
    "y = np.array(y)"
   ]
  },
  {
   "cell_type": "code",
   "execution_count": 9,
   "id": "384d0f29",
   "metadata": {},
   "outputs": [
    {
     "name": "stdout",
     "output_type": "stream",
     "text": [
      "(1838, 255)\n",
      "(1838,)\n"
     ]
    }
   ],
   "source": [
    "print(X.shape)\n",
    "print(y.shape)"
   ]
  },
  {
   "cell_type": "code",
   "execution_count": 10,
   "id": "a083d8ad",
   "metadata": {},
   "outputs": [],
   "source": [
    "train_indices = np.random.choice(len(X), size=int(0.9*len(X)), replace=False)\n",
    "valid_indices = np.setdiff1d(np.arange(len(X)), train_indices)"
   ]
  },
  {
   "cell_type": "code",
   "execution_count": 11,
   "id": "57d89029",
   "metadata": {},
   "outputs": [],
   "source": [
    "X_train, y_train = X[train_indices], y[train_indices]\n",
    "X_valid, y_valid = X[valid_indices], y[valid_indices]"
   ]
  },
  {
   "cell_type": "code",
   "execution_count": 12,
   "id": "ac0a61eb",
   "metadata": {},
   "outputs": [
    {
     "name": "stdout",
     "output_type": "stream",
     "text": [
      "(1654, 255)\n",
      "(1654,)\n",
      "(184, 255)\n",
      "(184,)\n"
     ]
    }
   ],
   "source": [
    "print(X_train.shape)\n",
    "print(y_train.shape)\n",
    "print(X_valid.shape)\n",
    "print(y_valid.shape) "
   ]
  },
  {
   "cell_type": "code",
   "execution_count": 13,
   "id": "0a5edcd2",
   "metadata": {},
   "outputs": [
    {
     "data": {
      "text/plain": [
       "RandomForestClassifier(max_depth=10, n_estimators=1000, random_state=42)"
      ]
     },
     "execution_count": 13,
     "metadata": {},
     "output_type": "execute_result"
    }
   ],
   "source": [
    "rf = RandomForestClassifier(n_estimators=1000, random_state=42,max_depth = 10,min_samples_split = 2,max_features= 'auto')\n",
    "rf.fit(X_train, y_train)"
   ]
  },
  {
   "cell_type": "code",
   "execution_count": 14,
   "id": "1a4d8b95",
   "metadata": {},
   "outputs": [
    {
     "name": "stdout",
     "output_type": "stream",
     "text": [
      "Validation accuracy: 0.3858695652173913\n"
     ]
    }
   ],
   "source": [
    "val_accuracy = rf.score(X_valid, y_valid)\n",
    "print('Validation accuracy:', val_accuracy)"
   ]
  },
  {
   "cell_type": "code",
   "execution_count": 15,
   "id": "74767cee",
   "metadata": {},
   "outputs": [
    {
     "data": {
      "text/plain": [
       "{'bootstrap': True,\n",
       " 'ccp_alpha': 0.0,\n",
       " 'class_weight': None,\n",
       " 'criterion': 'gini',\n",
       " 'max_depth': 10,\n",
       " 'max_features': 'auto',\n",
       " 'max_leaf_nodes': None,\n",
       " 'max_samples': None,\n",
       " 'min_impurity_decrease': 0.0,\n",
       " 'min_samples_leaf': 1,\n",
       " 'min_samples_split': 2,\n",
       " 'min_weight_fraction_leaf': 0.0,\n",
       " 'n_estimators': 1000,\n",
       " 'n_jobs': None,\n",
       " 'oob_score': False,\n",
       " 'random_state': 42,\n",
       " 'verbose': 0,\n",
       " 'warm_start': False}"
      ]
     },
     "execution_count": 15,
     "metadata": {},
     "output_type": "execute_result"
    }
   ],
   "source": [
    "params = rf.get_params()\n",
    "params\n"
   ]
  },
  {
   "cell_type": "code",
   "execution_count": 16,
   "id": "3e209b25",
   "metadata": {},
   "outputs": [],
   "source": [
    "from sklearn.metrics import accuracy_score, classification_report\n",
    "\n",
    "# Define the test directory\n",
    "test_dir = r\"C:\\Users\\18138\\Desktop\\data anly\\Test Image sp 23\"\n"
   ]
  },
  {
   "cell_type": "code",
   "execution_count": 17,
   "id": "c326f555",
   "metadata": {},
   "outputs": [],
   "source": [
    "# Get the list of subdirectories in the test directory\n",
    "test_subdirs = os.listdir(test_dir)\n",
    "\n",
    "# Define the list of class names in the dataset\n",
    "class_names = sorted(test_subdirs)"
   ]
  },
  {
   "cell_type": "code",
   "execution_count": 18,
   "id": "7f3d953d",
   "metadata": {},
   "outputs": [],
   "source": [
    "# Define the list to store the predicted class labels\n",
    "predictions = []\n",
    "true_labels = []"
   ]
  },
  {
   "cell_type": "code",
   "execution_count": 19,
   "id": "19659593",
   "metadata": {},
   "outputs": [],
   "source": [
    "# Loop over each class directory in the test directory\n",
    "for class_dir in test_subdirs:\n",
    "    class_index = class_names.index(class_dir)\n",
    "    for img_name in os.listdir(os.path.join(test_dir, class_dir)):\n",
    "        # Load the image and extract features\n",
    "        img_path = os.path.join(test_dir, class_dir, img_name)\n",
    "        features = extract_features(img_path)\n",
    "        \n",
    "        # Use the classifier to predict the class label\n",
    "        pred = rf.predict([features])[0]\n",
    "        predictions.append(pred)\n",
    "        true_labels.append(class_index)"
   ]
  },
  {
   "cell_type": "code",
   "execution_count": 20,
   "id": "024b4387",
   "metadata": {},
   "outputs": [],
   "source": [
    "# Convert the predicted class labels to class names\n",
    "predicted_class_names = [class_names[pred] for pred in predictions]"
   ]
  },
  {
   "cell_type": "code",
   "execution_count": 21,
   "id": "ead36683",
   "metadata": {},
   "outputs": [
    {
     "name": "stdout",
     "output_type": "stream",
     "text": [
      "Accuracy: 0.3770833333333333\n",
      "Classification Report:\n",
      "              precision    recall  f1-score   support\n",
      "\n",
      "       Adult       0.12      0.03      0.05        30\n",
      "    Airplane       0.44      0.70      0.54        30\n",
      "      Alpaca       0.28      0.37      0.31        30\n",
      "        Bird       0.64      0.23      0.34        30\n",
      "         Bus       0.50      0.90      0.64        30\n",
      "         Car       0.18      0.07      0.10        30\n",
      "         Cat       0.20      0.30      0.24        30\n",
      "       Child       0.50      0.07      0.12        30\n",
      "    Elephant       0.44      0.40      0.42        30\n",
      "      Flower       0.37      0.47      0.41        30\n",
      "     Giraffe       0.53      0.30      0.38        30\n",
      "       Horse       0.32      0.40      0.35        30\n",
      "      Monkey       0.23      0.30      0.26        30\n",
      "       Panda       0.35      0.53      0.42        30\n",
      "     Reptile       0.50      0.30      0.37        30\n",
      "      Vessel       0.54      0.67      0.60        30\n",
      "\n",
      "    accuracy                           0.38       480\n",
      "   macro avg       0.38      0.38      0.35       480\n",
      "weighted avg       0.38      0.38      0.35       480\n",
      "\n"
     ]
    }
   ],
   "source": [
    "# Print the accuracy score and classification report\n",
    "from sklearn.metrics import accuracy_score, classification_report\n",
    "test_accuracy = accuracy_score(true_labels, predictions)\n",
    "report = classification_report(true_labels, predictions, target_names=class_names, zero_division=0)\n",
    "print(f'Accuracy: {test_accuracy}')\n",
    "print(f'Classification Report:\\n{report}')\n"
   ]
  },
  {
   "cell_type": "code",
   "execution_count": 22,
   "id": "2726ca26",
   "metadata": {},
   "outputs": [
    {
     "name": "stdout",
     "output_type": "stream",
     "text": [
      "[11, 12, 9, 6, 1, 6, 6, 0, 8, 13, 12, 9, 13, 6, 2, 8, 6, 4, 13, 6, 6, 11, 6, 1, 12, 9, 11, 12, 12, 9, 15, 1, 1, 1, 1, 1, 15, 1, 1, 1, 1, 1, 1, 1, 15, 1, 2, 9, 4, 1, 1, 1, 9, 9, 1, 1, 1, 1, 1, 3, 10, 2, 8, 10, 2, 2, 4, 4, 14, 2, 15, 10, 13, 2, 11, 2, 8, 14, 14, 11, 14, 13, 2, 8, 2, 2, 14, 2, 2, 8, 12, 1, 6, 9, 6, 3, 3, 3, 11, 6, 1, 3, 11, 6, 6, 1, 6, 1, 3, 11, 2, 15, 1, 9, 3, 9, 3, 9, 6, 1, 4, 4, 0, 4, 4, 4, 4, 2, 4, 4, 4, 4, 15, 4, 4, 4, 4, 4, 4, 4, 4, 4, 4, 4, 4, 4, 4, 4, 4, 4, 4, 15, 5, 15, 1, 2, 4, 1, 15, 1, 15, 15, 1, 11, 1, 1, 11, 11, 1, 4, 11, 2, 15, 4, 4, 4, 15, 5, 1, 4, 0, 12, 6, 14, 13, 13, 6, 13, 12, 4, 13, 6, 6, 12, 5, 12, 6, 6, 6, 13, 9, 9, 2, 12, 6, 13, 0, 6, 12, 2, 6, 11, 13, 12, 7, 6, 6, 1, 9, 11, 0, 11, 6, 6, 13, 12, 6, 4, 2, 11, 10, 12, 6, 7, 13, 2, 0, 0, 1, 11, 2, 2, 4, 2, 8, 5, 15, 13, 8, 8, 8, 8, 5, 2, 5, 12, 8, 13, 8, 13, 8, 5, 8, 6, 10, 8, 8, 8, 4, 13, 9, 12, 12, 12, 6, 9, 9, 6, 9, 12, 9, 11, 6, 14, 1, 1, 9, 11, 13, 9, 9, 9, 9, 12, 9, 9, 9, 6, 9, 12, 10, 15, 8, 15, 8, 8, 4, 10, 10, 10, 10, 3, 11, 2, 10, 10, 4, 12, 12, 8, 3, 10, 4, 4, 8, 10, 13, 4, 4, 4, 12, 5, 11, 11, 4, 11, 11, 2, 5, 2, 11, 11, 2, 11, 2, 13, 12, 11, 10, 5, 8, 2, 13, 11, 2, 11, 2, 11, 11, 13, 12, 0, 13, 9, 9, 12, 12, 13, 13, 11, 13, 13, 2, 11, 2, 12, 6, 12, 12, 14, 15, 6, 12, 7, 9, 8, 12, 12, 1, 6, 13, 12, 11, 13, 13, 13, 13, 13, 13, 13, 13, 13, 13, 4, 2, 14, 11, 13, 12, 13, 13, 13, 12, 11, 10, 7, 8, 6, 13, 11, 9, 14, 14, 6, 14, 10, 2, 9, 13, 9, 9, 6, 13, 2, 2, 9, 9, 5, 9, 14, 14, 6, 8, 14, 6, 14, 14, 12, 14, 2, 15, 15, 15, 1, 15, 15, 15, 4, 15, 15, 15, 15, 1, 15, 15, 15, 1, 1, 15, 15, 15, 15, 1, 3, 1, 15, 15, 4, 15, 4]\n"
     ]
    }
   ],
   "source": [
    "print(predictions)"
   ]
  },
  {
   "cell_type": "code",
   "execution_count": 23,
   "id": "604acb02",
   "metadata": {},
   "outputs": [
    {
     "name": "stdout",
     "output_type": "stream",
     "text": [
      "[0, 0, 0, 0, 0, 0, 0, 0, 0, 0, 0, 0, 0, 0, 0, 0, 0, 0, 0, 0, 0, 0, 0, 0, 0, 0, 0, 0, 0, 0, 1, 1, 1, 1, 1, 1, 1, 1, 1, 1, 1, 1, 1, 1, 1, 1, 1, 1, 1, 1, 1, 1, 1, 1, 1, 1, 1, 1, 1, 1, 2, 2, 2, 2, 2, 2, 2, 2, 2, 2, 2, 2, 2, 2, 2, 2, 2, 2, 2, 2, 2, 2, 2, 2, 2, 2, 2, 2, 2, 2, 3, 3, 3, 3, 3, 3, 3, 3, 3, 3, 3, 3, 3, 3, 3, 3, 3, 3, 3, 3, 3, 3, 3, 3, 3, 3, 3, 3, 3, 3, 4, 4, 4, 4, 4, 4, 4, 4, 4, 4, 4, 4, 4, 4, 4, 4, 4, 4, 4, 4, 4, 4, 4, 4, 4, 4, 4, 4, 4, 4, 5, 5, 5, 5, 5, 5, 5, 5, 5, 5, 5, 5, 5, 5, 5, 5, 5, 5, 5, 5, 5, 5, 5, 5, 5, 5, 5, 5, 5, 5, 6, 6, 6, 6, 6, 6, 6, 6, 6, 6, 6, 6, 6, 6, 6, 6, 6, 6, 6, 6, 6, 6, 6, 6, 6, 6, 6, 6, 6, 6, 7, 7, 7, 7, 7, 7, 7, 7, 7, 7, 7, 7, 7, 7, 7, 7, 7, 7, 7, 7, 7, 7, 7, 7, 7, 7, 7, 7, 7, 7, 8, 8, 8, 8, 8, 8, 8, 8, 8, 8, 8, 8, 8, 8, 8, 8, 8, 8, 8, 8, 8, 8, 8, 8, 8, 8, 8, 8, 8, 8, 9, 9, 9, 9, 9, 9, 9, 9, 9, 9, 9, 9, 9, 9, 9, 9, 9, 9, 9, 9, 9, 9, 9, 9, 9, 9, 9, 9, 9, 9, 10, 10, 10, 10, 10, 10, 10, 10, 10, 10, 10, 10, 10, 10, 10, 10, 10, 10, 10, 10, 10, 10, 10, 10, 10, 10, 10, 10, 10, 10, 11, 11, 11, 11, 11, 11, 11, 11, 11, 11, 11, 11, 11, 11, 11, 11, 11, 11, 11, 11, 11, 11, 11, 11, 11, 11, 11, 11, 11, 11, 12, 12, 12, 12, 12, 12, 12, 12, 12, 12, 12, 12, 12, 12, 12, 12, 12, 12, 12, 12, 12, 12, 12, 12, 12, 12, 12, 12, 12, 12, 13, 13, 13, 13, 13, 13, 13, 13, 13, 13, 13, 13, 13, 13, 13, 13, 13, 13, 13, 13, 13, 13, 13, 13, 13, 13, 13, 13, 13, 13, 14, 14, 14, 14, 14, 14, 14, 14, 14, 14, 14, 14, 14, 14, 14, 14, 14, 14, 14, 14, 14, 14, 14, 14, 14, 14, 14, 14, 14, 14, 15, 15, 15, 15, 15, 15, 15, 15, 15, 15, 15, 15, 15, 15, 15, 15, 15, 15, 15, 15, 15, 15, 15, 15, 15, 15, 15, 15, 15, 15]\n"
     ]
    }
   ],
   "source": [
    "print(true_labels)"
   ]
  },
  {
   "cell_type": "code",
   "execution_count": null,
   "id": "c1fb9090",
   "metadata": {},
   "outputs": [],
   "source": []
  },
  {
   "cell_type": "code",
   "execution_count": 24,
   "id": "a8f9343d",
   "metadata": {},
   "outputs": [
    {
     "name": "stdout",
     "output_type": "stream",
     "text": [
      "['test_adult (1).jpg', 'test_adult (10).jpg', 'test_adult (11).jpg', 'test_adult (12).jpg', 'test_adult (13).jpg', 'test_adult (14).jpg', 'test_adult (15).jpg', 'test_adult (16).jpg', 'test_adult (17).jpg', 'test_adult (18).jpg', 'test_adult (19).jpg', 'test_adult (2).jpg', 'test_adult (20).jpg', 'test_adult (21).jpg', 'test_adult (22).jpg', 'test_adult (23).jpg', 'test_adult (24).jpg', 'test_adult (25).jpg', 'test_adult (26).jpg', 'test_adult (27).jpg', 'test_adult (28).jpg', 'test_adult (29).jpg', 'test_adult (3).jpg', 'test_adult (30).jpg', 'test_adult (4).jpg', 'test_adult (5).jpg', 'test_adult (6).jpg', 'test_adult (7).jpg', 'test_adult (8).jpg', 'test_adult (9).jpg', 'test_airplane (1).jpg', 'test_airplane (10).jpg', 'test_airplane (11).jpg', 'test_airplane (12).jpg', 'test_airplane (13).jpg', 'test_airplane (14).jpg', 'test_airplane (15).jpg', 'test_airplane (16).jpg', 'test_airplane (17).jpg', 'test_airplane (18).jpg', 'test_airplane (19).jpg', 'test_airplane (2).jpg', 'test_airplane (20).jpg', 'test_airplane (21).jpg', 'test_airplane (22).jpg', 'test_airplane (23).jpg', 'test_airplane (24).jpg', 'test_airplane (25).jpg', 'test_airplane (26).jpg', 'test_airplane (27).jpg', 'test_airplane (28).jpg', 'test_airplane (29).jpg', 'test_airplane (3).jpg', 'test_airplane (30).jpg', 'test_airplane (4).jpg', 'test_airplane (5).jpg', 'test_airplane (6).jpg', 'test_airplane (7).jpg', 'test_airplane (8).jpg', 'test_airplane (9).jpg', 'test_alpaca (1).jpg', 'test_alpaca (10).jpg', 'test_alpaca (11).jpg', 'test_alpaca (12).jpg', 'test_alpaca (13).jpg', 'test_alpaca (14).jpg', 'test_alpaca (15).jpg', 'test_alpaca (16).jpg', 'test_alpaca (17).jpg', 'test_alpaca (18).jpg', 'test_alpaca (19).jpg', 'test_alpaca (2).jpg', 'test_alpaca (20).jpg', 'test_alpaca (21).jpg', 'test_alpaca (22).jpg', 'test_alpaca (23).jpg', 'test_alpaca (24).jpg', 'test_alpaca (25).jpg', 'test_alpaca (26).jpg', 'test_alpaca (27).jpg', 'test_alpaca (28).jpg', 'test_alpaca (29).jpg', 'test_alpaca (3).jpg', 'test_alpaca (30).jpg', 'test_alpaca (4).jpg', 'test_alpaca (5).jpg', 'test_alpaca (6).jpg', 'test_alpaca (7).jpg', 'test_alpaca (8).jpg', 'test_alpaca (9).jpg', 'test_bird (1).jpg', 'test_bird (10).jpg', 'test_bird (11).jpg', 'test_bird (12).jpg', 'test_bird (13).jpg', 'test_bird (14).jpg', 'test_bird (15).jpg', 'test_bird (16).jpg', 'test_bird (17).jpg', 'test_bird (18).jpg', 'test_bird (19).jpg', 'test_bird (2).jpg', 'test_bird (20).jpg', 'test_bird (21).jpg', 'test_bird (22).jpg', 'test_bird (23).jpg', 'test_bird (24).jpg', 'test_bird (25).jpg', 'test_bird (26).jpg', 'test_bird (27).jpg', 'test_bird (28).jpg', 'test_bird (29).jpg', 'test_bird (3).jpg', 'test_bird (30).jpg', 'test_bird (4).jpg', 'test_bird (5).jpg', 'test_bird (6).jpg', 'test_bird (7).jpg', 'test_bird (8).jpg', 'test_bird (9).jpg', 'test_bus (1).jpg', 'test_bus (10).jpg', 'test_bus (11).jpg', 'test_bus (12).jpg', 'test_bus (13).jpg', 'test_bus (14).jpg', 'test_bus (15).jpg', 'test_bus (16).jpg', 'test_bus (17).jpg', 'test_bus (18).jpg', 'test_bus (19).jpg', 'test_bus (2).jpg', 'test_bus (20).jpg', 'test_bus (21).jpg', 'test_bus (22).jpg', 'test_bus (23).jpg', 'test_bus (24).jpg', 'test_bus (25).jpg', 'test_bus (26).jpg', 'test_bus (27).jpg', 'test_bus (28).jpg', 'test_bus (29).jpg', 'test_bus (3).jpg', 'test_bus (30).jpg', 'test_bus (4).jpg', 'test_bus (5).jpg', 'test_bus (6).jpg', 'test_bus (7).jpg', 'test_bus (8).jpg', 'test_bus (9).jpg', 'test_car (1).jpg', 'test_car (10).jpg', 'test_car (11).jpg', 'test_car (12).jpg', 'test_car (13).jpg', 'test_car (14).jpg', 'test_car (15).jpg', 'test_car (16).jpg', 'test_car (17).jpg', 'test_car (18).jpg', 'test_car (19).jpg', 'test_car (2).jpg', 'test_car (20).jpg', 'test_car (21).jpg', 'test_car (22).jpg', 'test_car (23).jpg', 'test_car (24).jpg', 'test_car (25).jpg', 'test_car (26).jpg', 'test_car (27).jpg', 'test_car (28).jpg', 'test_car (29).jpg', 'test_car (3).jpg', 'test_car (30).jpg', 'test_car (4).jpg', 'test_car (5).jpg', 'test_car (6).jpg', 'test_car (7).jpg', 'test_car (8).jpg', 'test_car (9).jpg', 'test_cat (1).jpg', 'test_cat (10).jpg', 'test_cat (11).jpg', 'test_cat (12).jpg', 'test_cat (13).jpg', 'test_cat (14).jpg', 'test_cat (15).jpg', 'test_cat (16).jpg', 'test_cat (17).jpg', 'test_cat (18).jpg', 'test_cat (19).jpg', 'test_cat (2).jpg', 'test_cat (20).jpg', 'test_cat (21).jpg', 'test_cat (22).jpg', 'test_cat (23).jpg', 'test_cat (24).jpg', 'test_cat (25).jpg', 'test_cat (26).jpg', 'test_cat (27).jpg', 'test_cat (28).jpg', 'test_cat (29).jpg', 'test_cat (3).jpg', 'test_cat (30).jpg', 'test_cat (4).jpg', 'test_cat (5).jpg', 'test_cat (6).jpg', 'test_cat (7).jpg', 'test_cat (8).jpg', 'test_cat (9).jpg', 'test_child (1).jpg', 'test_child (10).jpg', 'test_child (11).jpg', 'test_child (12).jpg', 'test_child (13).jpg', 'test_child (14).jpg', 'test_child (15).jpg', 'test_child (16).jpg', 'test_child (17).jpg', 'test_child (18).jpg', 'test_child (19).jpg', 'test_child (2).jpg', 'test_child (20).jpg', 'test_child (21).jpg', 'test_child (22).jpg', 'test_child (23).jpg', 'test_child (24).jpg', 'test_child (25).jpg', 'test_child (26).jpg', 'test_child (27).jpg', 'test_child (28).jpg', 'test_child (29).jpg', 'test_child (3).jpg', 'test_child (30).jpg', 'test_child (4).jpg', 'test_child (5).jpg', 'test_child (6).jpg', 'test_child (7).jpg', 'test_child (8).jpg', 'test_child (9).jpg', 'test_elephant (1).jpg', 'test_elephant (10).jpg', 'test_elephant (11).jpg', 'test_elephant (12).jpg', 'test_elephant (13).jpg', 'test_elephant (14).jpg', 'test_elephant (15).jpg', 'test_elephant (16).jpg', 'test_elephant (17).jpg', 'test_elephant (18).jpg', 'test_elephant (19).jpg', 'test_elephant (2).jpg', 'test_elephant (20).jpg', 'test_elephant (21).jpg', 'test_elephant (22).jpg', 'test_elephant (23).jpg', 'test_elephant (24).jpg', 'test_elephant (25).jpg', 'test_elephant (26).jpg', 'test_elephant (27).jpg', 'test_elephant (28).jpg', 'test_elephant (29).jpg', 'test_elephant (3).jpg', 'test_elephant (30).jpg', 'test_elephant (4).jpg', 'test_elephant (5).jpg', 'test_elephant (6).jpg', 'test_elephant (7).jpg', 'test_elephant (8).jpg', 'test_elephant (9).jpg', 'test_flower (1).jpg', 'test_flower (10).jpg', 'test_flower (11).jpg', 'test_flower (12).jpg', 'test_flower (13).jpg', 'test_flower (14).jpg', 'test_flower (15).jpg', 'test_flower (16).jpg', 'test_flower (17).jpg', 'test_flower (18).jpg', 'test_flower (19).jpg', 'test_flower (2).jpg', 'test_flower (20).jpg', 'test_flower (21).jpg', 'test_flower (22).jpg', 'test_flower (23).jpg', 'test_flower (24).jpg', 'test_flower (25).jpg', 'test_flower (26).jpg', 'test_flower (27).jpg', 'test_flower (28).jpg', 'test_flower (29).jpg', 'test_flower (3).jpg', 'test_flower (30).jpg', 'test_flower (4).jpg', 'test_flower (5).jpg', 'test_flower (6).jpg', 'test_flower (7).jpg', 'test_flower (8).jpg', 'test_flower (9).jpg', 'test_giraffe (1).jpg', 'test_giraffe (10).jpg', 'test_giraffe (11).jpg', 'test_giraffe (12).jpg', 'test_giraffe (13).jpg', 'test_giraffe (14).jpg', 'test_giraffe (15).jpg', 'test_giraffe (16).jpg', 'test_giraffe (17).jpg', 'test_giraffe (18).jpg', 'test_giraffe (19).jpg', 'test_giraffe (2).jpg', 'test_giraffe (20).jpg', 'test_giraffe (21).jpg', 'test_giraffe (22).jpg', 'test_giraffe (23).jpg', 'test_giraffe (24).jpg', 'test_giraffe (25).jpg', 'test_giraffe (26).jpg', 'test_giraffe (27).jpg', 'test_giraffe (28).jpg', 'test_giraffe (29).jpg', 'test_giraffe (3).jpg', 'test_giraffe (30).jpg', 'test_giraffe (4).jpg', 'test_giraffe (5).jpg', 'test_giraffe (6).jpg', 'test_giraffe (7).jpg', 'test_giraffe (8).jpg', 'test_giraffe (9).jpg', 'test_horse (1).jpeg', 'test_horse (10).jpeg', 'test_horse (11).jpeg', 'test_horse (12).jpeg', 'test_horse (13).jpeg', 'test_horse (14).jpeg', 'test_horse (15).jpeg', 'test_horse (16).jpeg', 'test_horse (17).jpeg', 'test_horse (18).jpeg', 'test_horse (19).jpeg', 'test_horse (2).jpeg', 'test_horse (20).jpeg', 'test_horse (21).jpeg', 'test_horse (22).jpg', 'test_horse (23).jpg', 'test_horse (24).jpg', 'test_horse (25).jpg', 'test_horse (26).jpg', 'test_horse (27).jpg', 'test_horse (28).jpg', 'test_horse (29).jpg', 'test_horse (3).jpeg', 'test_horse (30).jpg', 'test_horse (4).jpeg', 'test_horse (5).jpeg', 'test_horse (6).jpeg', 'test_horse (7).jpeg', 'test_horse (8).jpeg', 'test_horse (9).jpeg', 'test_monkey (1).jpg', 'test_monkey (10).jpg', 'test_monkey (11).jpg', 'test_monkey (12).jpg', 'test_monkey (13).jpg', 'test_monkey (14).jpg', 'test_monkey (15).jpg', 'test_monkey (16).jpg', 'test_monkey (17).jpg', 'test_monkey (18).jpg', 'test_monkey (19).jpg', 'test_monkey (2).jpg', 'test_monkey (20).jpg', 'test_monkey (21).jpg', 'test_monkey (22).jpg', 'test_monkey (23).jpg', 'test_monkey (24).jpg', 'test_monkey (25).jpg', 'test_monkey (26).jpg', 'test_monkey (27).jpg', 'test_monkey (28).jpg', 'test_monkey (29).jpg', 'test_monkey (3).jpg', 'test_monkey (30).jpg', 'test_monkey (4).jpg', 'test_monkey (5).jpg', 'test_monkey (6).jpg', 'test_monkey (7).jpg', 'test_monkey (8).jpg', 'test_monkey (9).jpg', 'test_panda (1).jpg', 'test_panda (10).jpg', 'test_panda (11).jpg', 'test_panda (12).jpg', 'test_panda (13).jpg', 'test_panda (14).jpg', 'test_panda (15).jpg', 'test_panda (16).jpg', 'test_panda (17).jpg', 'test_panda (18).jpg', 'test_panda (19).jpg', 'test_panda (2).jpg', 'test_panda (20).jpg', 'test_panda (21).jpg', 'test_panda (22).jpg', 'test_panda (23).jpg', 'test_panda (24).jpg', 'test_panda (25).jpg', 'test_panda (26).jpg', 'test_panda (27).jpg', 'test_panda (28).jpg', 'test_panda (29).jpg', 'test_panda (3).jpg', 'test_panda (30).jpg', 'test_panda (4).jpg', 'test_panda (5).jpg', 'test_panda (6).jpg', 'test_panda (7).jpg', 'test_panda (8).jpg', 'test_panda (9).jpg', 'test_reptile (1).jpg', 'test_reptile (10).jpg', 'test_reptile (11).jpg', 'test_reptile (12).jpg', 'test_reptile (13).jpg', 'test_reptile (14).jpg', 'test_reptile (15).jpg', 'test_reptile (16).jpg', 'test_reptile (17).jpg', 'test_reptile (18).jpg', 'test_reptile (19).jpg', 'test_reptile (2).jpg', 'test_reptile (20).jpg', 'test_reptile (21).jpg', 'test_reptile (22).jpg', 'test_reptile (23).jpg', 'test_reptile (24).jpg', 'test_reptile (25).jpg', 'test_reptile (26).jpg', 'test_reptile (27).jpg', 'test_reptile (28).jpg', 'test_reptile (29).jpg', 'test_reptile (3).jpg', 'test_reptile (30).jpg', 'test_reptile (4).jpg', 'test_reptile (5).jpg', 'test_reptile (6).jpg', 'test_reptile (7).jpg', 'test_reptile (8).jpg', 'test_reptile (9).jpg', 'test_vessel (1).jpg', 'test_vessel (10).jpg', 'test_vessel (11).jpg', 'test_vessel (12).jpg', 'test_vessel (13).jpg', 'test_vessel (14).jpg', 'test_vessel (15).jpg', 'test_vessel (16).jpg', 'test_vessel (17).jpg', 'test_vessel (18).jpg', 'test_vessel (19).jpg', 'test_vessel (2).jpg', 'test_vessel (20).jpg', 'test_vessel (21).jpg', 'test_vessel (22).jpg', 'test_vessel (23).jpg', 'test_vessel (24).jpg', 'test_vessel (25).jpg', 'test_vessel (26).jpg', 'test_vessel (27).jpg', 'test_vessel (28).jpg', 'test_vessel (29).jpg', 'test_vessel (3).jpg', 'test_vessel (30).jpg', 'test_vessel (4).jpg', 'test_vessel (5).jpg', 'test_vessel (6).jpg', 'test_vessel (7).jpg', 'test_vessel (8).jpg', 'test_vessel (9).jpg']\n"
     ]
    }
   ],
   "source": [
    "test_class_names = []\n",
    "\n",
    "# Loop over each class directory in the test directory\n",
    "for class_dir in test_subdirs:\n",
    "    # Loop over each image in the class directory\n",
    "    for img_name in os.listdir(os.path.join(test_dir, class_dir)):\n",
    "        # Add the image name to the list\n",
    "        test_class_names.append(img_name)\n",
    "\n",
    "# Print the list of image names\n",
    "print(test_class_names)"
   ]
  },
  {
   "cell_type": "code",
   "execution_count": 28,
   "id": "1226b851",
   "metadata": {},
   "outputs": [],
   "source": [
    "import pandas as pd\n",
    "\n",
    "# Create a dictionary that maps column names to the corresponding lists\n",
    "data = {'GIVEN TEST IMG': test_class_names, 'GIVEN TEST CLASS': true_labels, 'PREDICTED CLASS':predictions }\n",
    "\n",
    "# Create a dataframe from the dictionary\n",
    "df = pd.DataFrame(data)\n",
    "\n",
    "# Print the dataframe\n",
    "df.to_csv(\"Random final.csv\", index=False)"
   ]
  },
  {
   "cell_type": "code",
   "execution_count": 29,
   "id": "e10f0cd5",
   "metadata": {},
   "outputs": [
    {
     "data": {
      "image/png": "[encoded data removed]",
      "text/plain": [
       "<Figure size 640x480 with 1 Axes>"
      ]
     },
     "metadata": {},
     "output_type": "display_data"
    }
   ],
   "source": [
    "import matplotlib.pyplot as plt\n",
    "\n",
    "plt.plot([1, 2], [val_accuracy, test_accuracy], marker='o')\n",
    "plt.xticks([1, 2], ['Validation', 'Test'])\n",
    "plt.ylabel('Accuracy')\n",
    "plt.title('Validation vs Test Accuracy(RF_ WITHOUT_PRETRAINED)')\n",
    "plt.show()"
   ]
  },
  {
   "cell_type": "code",
   "execution_count": 30,
   "id": "2b0912ba",
   "metadata": {},
   "outputs": [
    {
     "name": "stdout",
     "output_type": "stream",
     "text": [
      "[[ 1  2  1  0  1  0  8  0  2  4  0  3  5  3  0  0]\n",
      " [ 0 21  1  1  1  0  0  0  0  3  0  0  0  0  0  3]\n",
      " [ 0  0 11  0  2  0  0  0  4  0  3  2  0  2  5  1]\n",
      " [ 0  6  1  7  0  0  7  0  0  4  0  3  1  0  0  1]\n",
      " [ 1  0  1  0 27  0  0  0  0  0  0  0  0  0  0  1]\n",
      " [ 0  8  2  0  7  2  0  0  0  0  0  4  0  0  0  7]\n",
      " [ 2  0  2  0  1  1  9  0  0  2  0  0  6  6  1  0]\n",
      " [ 3  2  2  0  1  0  7  2  0  1  1  5  3  3  0  0]\n",
      " [ 0  0  4  0  2  4  1  0 12  0  1  0  1  4  0  1]\n",
      " [ 0  2  0  0  0  0  4  0  0 14  0  2  6  1  1  0]\n",
      " [ 0  0  1  2  7  0  0  0  5  0  9  1  2  1  0  2]\n",
      " [ 0  0  7  0  1  3  0  0  1  0  1 12  2  3  0  0]\n",
      " [ 1  1  2  0  0  0  3  1  1  3  0  2  9  5  1  1]\n",
      " [ 0  0  1  0  1  0  1  1  1  0  1  4  3 16  1  0]\n",
      " [ 0  0  4  0  0  1  4  0  1  7  1  0  1  2  9  0]\n",
      " [ 0  6  0  1  3  0  0  0  0  0  0  0  0  0  0 20]]\n"
     ]
    }
   ],
   "source": [
    "from sklearn.metrics import confusion_matrix\n",
    "import numpy as np\n",
    "\n",
    "cm = confusion_matrix(true_labels, predictions)\n",
    "print(cm)"
   ]
  },
  {
   "cell_type": "code",
   "execution_count": null,
   "id": "5181e883",
   "metadata": {},
   "outputs": [],
   "source": []
  }
 ],
 "metadata": {
  "kernelspec": {
   "display_name": "Python 3 (ipykernel)",
   "language": "python",
   "name": "python3"
  },
  "language_info": {
   "codemirror_mode": {
    "name": "ipython",
    "version": 3
   },
   "file_extension": ".py",
   "mimetype": "text/x-python",
   "name": "python",
   "nbconvert_exporter": "python",
   "pygments_lexer": "ipython3",
   "version": "3.9.13"
  }
 },
 "nbformat": 4,
 "nbformat_minor": 5
}
